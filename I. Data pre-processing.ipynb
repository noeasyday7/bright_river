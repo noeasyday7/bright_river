{
 "cells": [
  {
   "cell_type": "markdown",
   "metadata": {},
   "source": [
    "# 0. Imports"
   ]
  },
  {
   "cell_type": "code",
   "execution_count": null,
   "metadata": {},
   "outputs": [],
   "source": [
    "import pandas as pd\n",
    "import numpy as np\n",
    "import matplotlib.pyplot as plt\n",
    "import seaborn as sns\n",
    "import os\n",
    "import matplotlib.gridspec as gridspec\n",
    "\n",
    "from ydata_profiling import ProfileReport\n",
    "from sklearn.preprocessing import StandardScaler\n",
    "from sklearn.decomposition import PCA\n",
    "from kneed import KneeLocator\n",
    "from yellowbrick.cluster import KElbowVisualizer, SilhouetteVisualizer\n",
    "from sklearn.cluster import KMeans\n",
    "from sklearn.metrics import silhouette_score, calinski_harabasz_score, davies_bouldin_score\n",
    "from collections import Counter\n",
    "from tabulate import tabulate"
   ]
  },
  {
   "cell_type": "markdown",
   "metadata": {},
   "source": [
    "# I. Data Pre-processing"
   ]
  },
  {
   "cell_type": "code",
   "execution_count": null,
   "metadata": {},
   "outputs": [
    {
     "data": {
      "text/plain": [
       "'c:\\\\Users\\\\MaximeRoux\\\\OneDrive - Samsøe & Samsøe Wholesale ApS\\\\Documents\\\\Operations\\\\S&OP\\\\Forecasting\\\\Basics'"
      ]
     },
     "metadata": {},
     "output_type": "display_data"
    }
   ],
   "source": [
    "os.getcwd()"
   ]
  },
  {
   "cell_type": "code",
   "execution_count": null,
   "metadata": {},
   "outputs": [],
   "source": [
    "# Configure seaborn plot style: set background color and use dark grid\n",
    "sns.set(rc={'axes.facecolor':'#E6E6E6'}, style='darkgrid')"
   ]
  },
  {
   "cell_type": "code",
   "execution_count": null,
   "metadata": {},
   "outputs": [],
   "source": [
    "# Importing the dataset\n",
    "df = pd.read_csv('data/sales_invoiced_lines_basics_v2.csv')"
   ]
  },
  {
   "cell_type": "code",
   "execution_count": null,
   "metadata": {},
   "outputs": [],
   "source": [
    "# The dataframe is relatively large and we want to visualise it as a scrollable element\n",
    "pd.set_option('display.max_columns', None)"
   ]
  },
  {
   "cell_type": "markdown",
   "metadata": {},
   "source": [
    "## 1. Data cleaning"
   ]
  },
  {
   "cell_type": "code",
   "execution_count": null,
   "metadata": {},
   "outputs": [
    {
     "data": {
      "text/html": [
       "<div>\n",
       "<style scoped>\n",
       "    .dataframe tbody tr th:only-of-type {\n",
       "        vertical-align: middle;\n",
       "    }\n",
       "\n",
       "    .dataframe tbody tr th {\n",
       "        vertical-align: top;\n",
       "    }\n",
       "\n",
       "    .dataframe thead th {\n",
       "        text-align: right;\n",
       "    }\n",
       "</style>\n",
       "<table border=\"1\" class=\"dataframe\">\n",
       "  <thead>\n",
       "    <tr style=\"text-align: right;\">\n",
       "      <th></th>\n",
       "      <th>Unnamed: 0</th>\n",
       "      <th>Id</th>\n",
       "      <th>DimEntityId</th>\n",
       "      <th>DimOrderTypeId</th>\n",
       "      <th>OrderTypeCode</th>\n",
       "      <th>DimGeographyId</th>\n",
       "      <th>Country</th>\n",
       "      <th>DimPostingDateId</th>\n",
       "      <th>DimGenderId</th>\n",
       "      <th>DimBillToCustomerId</th>\n",
       "      <th>CustomerMainType</th>\n",
       "      <th>CustomerSubGroup</th>\n",
       "      <th>DimCollectionId</th>\n",
       "      <th>DimItemId</th>\n",
       "      <th>ItemNo2</th>\n",
       "      <th>StyleID</th>\n",
       "      <th>Style</th>\n",
       "      <th>Color</th>\n",
       "      <th>Size</th>\n",
       "      <th>EAN</th>\n",
       "      <th>Gender</th>\n",
       "      <th>Category</th>\n",
       "      <th>SUB Category</th>\n",
       "      <th>SUB Category2</th>\n",
       "      <th>Quality</th>\n",
       "      <th>Origin Country</th>\n",
       "      <th>WHSSalesPriceDKK</th>\n",
       "      <th>RRSalesPriceDKK</th>\n",
       "      <th>DimOrderSalespersonId</th>\n",
       "      <th>DimOrderCountryManagerId</th>\n",
       "      <th>OrderHeaderNumber</th>\n",
       "      <th>OrderLineNumber</th>\n",
       "      <th>Inbound Duty</th>\n",
       "      <th>Quantity</th>\n",
       "      <th>Amount</th>\n",
       "      <th>Discount</th>\n",
       "      <th>Cost</th>\n",
       "    </tr>\n",
       "  </thead>\n",
       "  <tbody>\n",
       "    <tr>\n",
       "      <th>0</th>\n",
       "      <td>0</td>\n",
       "      <td>139269</td>\n",
       "      <td>43</td>\n",
       "      <td>222</td>\n",
       "      <td>B2BSUP</td>\n",
       "      <td>71</td>\n",
       "      <td>Finland</td>\n",
       "      <td>20220312</td>\n",
       "      <td>2</td>\n",
       "      <td>1718</td>\n",
       "      <td>WHOLESALE</td>\n",
       "      <td>FI</td>\n",
       "      <td>54</td>\n",
       "      <td>347900</td>\n",
       "      <td>F15404308_CLR000021</td>\n",
       "      <td>F15404308</td>\n",
       "      <td>Hoys pants 6528</td>\n",
       "      <td>Black</td>\n",
       "      <td>XL</td>\n",
       "      <td>5.711450e+12</td>\n",
       "      <td>WOMENSWEAR</td>\n",
       "      <td>Trousers</td>\n",
       "      <td>Trousers</td>\n",
       "      <td>Default</td>\n",
       "      <td>Woven</td>\n",
       "      <td>China</td>\n",
       "      <td>315.0</td>\n",
       "      <td>800.0</td>\n",
       "      <td>113</td>\n",
       "      <td>2</td>\n",
       "      <td>103099</td>\n",
       "      <td>20001</td>\n",
       "      <td>0.12</td>\n",
       "      <td>1.0</td>\n",
       "      <td>294.63</td>\n",
       "      <td>17.71</td>\n",
       "      <td>152.91</td>\n",
       "    </tr>\n",
       "    <tr>\n",
       "      <th>1</th>\n",
       "      <td>1</td>\n",
       "      <td>139865</td>\n",
       "      <td>43</td>\n",
       "      <td>222</td>\n",
       "      <td>B2BSUP</td>\n",
       "      <td>71</td>\n",
       "      <td>Finland</td>\n",
       "      <td>20220312</td>\n",
       "      <td>2</td>\n",
       "      <td>1718</td>\n",
       "      <td>WHOLESALE</td>\n",
       "      <td>FI</td>\n",
       "      <td>54</td>\n",
       "      <td>347900</td>\n",
       "      <td>F15404308_CLR000021</td>\n",
       "      <td>F15404308</td>\n",
       "      <td>Hoys pants 6528</td>\n",
       "      <td>Black</td>\n",
       "      <td>XL</td>\n",
       "      <td>5.711450e+12</td>\n",
       "      <td>WOMENSWEAR</td>\n",
       "      <td>Trousers</td>\n",
       "      <td>Trousers</td>\n",
       "      <td>Default</td>\n",
       "      <td>Woven</td>\n",
       "      <td>China</td>\n",
       "      <td>315.0</td>\n",
       "      <td>800.0</td>\n",
       "      <td>113</td>\n",
       "      <td>2</td>\n",
       "      <td>103106</td>\n",
       "      <td>20002</td>\n",
       "      <td>0.12</td>\n",
       "      <td>2.0</td>\n",
       "      <td>589.26</td>\n",
       "      <td>35.34</td>\n",
       "      <td>305.80</td>\n",
       "    </tr>\n",
       "    <tr>\n",
       "      <th>2</th>\n",
       "      <td>2</td>\n",
       "      <td>137984</td>\n",
       "      <td>43</td>\n",
       "      <td>222</td>\n",
       "      <td>B2BSUP</td>\n",
       "      <td>20</td>\n",
       "      <td>Belgium</td>\n",
       "      <td>20220312</td>\n",
       "      <td>1</td>\n",
       "      <td>1462</td>\n",
       "      <td>WHOLESALE</td>\n",
       "      <td>BE</td>\n",
       "      <td>54</td>\n",
       "      <td>778</td>\n",
       "      <td>M00012003_CLR000508</td>\n",
       "      <td>M00012003</td>\n",
       "      <td>Kronos o-n ss 273</td>\n",
       "      <td>White mel</td>\n",
       "      <td>S</td>\n",
       "      <td>5.711452e+12</td>\n",
       "      <td>MENSWEAR</td>\n",
       "      <td>Tops</td>\n",
       "      <td>Crew neck</td>\n",
       "      <td>Short sleeve</td>\n",
       "      <td>Jersey</td>\n",
       "      <td>Turkey</td>\n",
       "      <td>90.0</td>\n",
       "      <td>250.0</td>\n",
       "      <td>282</td>\n",
       "      <td>3</td>\n",
       "      <td>103035</td>\n",
       "      <td>20002</td>\n",
       "      <td>0.00</td>\n",
       "      <td>1.0</td>\n",
       "      <td>78.12</td>\n",
       "      <td>0.00</td>\n",
       "      <td>42.41</td>\n",
       "    </tr>\n",
       "    <tr>\n",
       "      <th>3</th>\n",
       "      <td>3</td>\n",
       "      <td>195101</td>\n",
       "      <td>43</td>\n",
       "      <td>222</td>\n",
       "      <td>B2BSUP</td>\n",
       "      <td>57</td>\n",
       "      <td>Germany</td>\n",
       "      <td>20220312</td>\n",
       "      <td>2</td>\n",
       "      <td>1231</td>\n",
       "      <td>WHOLESALE</td>\n",
       "      <td>DE-2</td>\n",
       "      <td>54</td>\n",
       "      <td>348547</td>\n",
       "      <td>F19123672_CLR000021</td>\n",
       "      <td>F19123672</td>\n",
       "      <td>Majan ss shirt 9942</td>\n",
       "      <td>Black</td>\n",
       "      <td>L</td>\n",
       "      <td>5.711452e+12</td>\n",
       "      <td>WOMENSWEAR</td>\n",
       "      <td>Shirts</td>\n",
       "      <td>Shirts</td>\n",
       "      <td>Short sleeve</td>\n",
       "      <td>Woven</td>\n",
       "      <td>China</td>\n",
       "      <td>195.0</td>\n",
       "      <td>500.0</td>\n",
       "      <td>96</td>\n",
       "      <td>6</td>\n",
       "      <td>IN0001122</td>\n",
       "      <td>60002</td>\n",
       "      <td>0.12</td>\n",
       "      <td>2.0</td>\n",
       "      <td>379.45</td>\n",
       "      <td>0.00</td>\n",
       "      <td>147.84</td>\n",
       "    </tr>\n",
       "    <tr>\n",
       "      <th>4</th>\n",
       "      <td>4</td>\n",
       "      <td>138577</td>\n",
       "      <td>43</td>\n",
       "      <td>222</td>\n",
       "      <td>B2BSUP</td>\n",
       "      <td>57</td>\n",
       "      <td>Germany</td>\n",
       "      <td>20220312</td>\n",
       "      <td>2</td>\n",
       "      <td>1231</td>\n",
       "      <td>WHOLESALE</td>\n",
       "      <td>DE-2</td>\n",
       "      <td>54</td>\n",
       "      <td>348547</td>\n",
       "      <td>F19123672_CLR000021</td>\n",
       "      <td>F19123672</td>\n",
       "      <td>Majan ss shirt 9942</td>\n",
       "      <td>Black</td>\n",
       "      <td>L</td>\n",
       "      <td>5.711452e+12</td>\n",
       "      <td>WOMENSWEAR</td>\n",
       "      <td>Shirts</td>\n",
       "      <td>Shirts</td>\n",
       "      <td>Short sleeve</td>\n",
       "      <td>Woven</td>\n",
       "      <td>China</td>\n",
       "      <td>195.0</td>\n",
       "      <td>500.0</td>\n",
       "      <td>85</td>\n",
       "      <td>6</td>\n",
       "      <td>103113</td>\n",
       "      <td>40003</td>\n",
       "      <td>0.12</td>\n",
       "      <td>2.0</td>\n",
       "      <td>379.45</td>\n",
       "      <td>0.00</td>\n",
       "      <td>162.08</td>\n",
       "    </tr>\n",
       "  </tbody>\n",
       "</table>\n",
       "</div>"
      ],
      "text/plain": [
       "   Unnamed: 0      Id  DimEntityId  DimOrderTypeId OrderTypeCode  \\\n",
       "0           0  139269           43             222        B2BSUP   \n",
       "1           1  139865           43             222        B2BSUP   \n",
       "2           2  137984           43             222        B2BSUP   \n",
       "3           3  195101           43             222        B2BSUP   \n",
       "4           4  138577           43             222        B2BSUP   \n",
       "\n",
       "   DimGeographyId  Country  DimPostingDateId  DimGenderId  \\\n",
       "0              71  Finland          20220312            2   \n",
       "1              71  Finland          20220312            2   \n",
       "2              20  Belgium          20220312            1   \n",
       "3              57  Germany          20220312            2   \n",
       "4              57  Germany          20220312            2   \n",
       "\n",
       "   DimBillToCustomerId CustomerMainType CustomerSubGroup  DimCollectionId  \\\n",
       "0                 1718        WHOLESALE               FI               54   \n",
       "1                 1718        WHOLESALE               FI               54   \n",
       "2                 1462        WHOLESALE               BE               54   \n",
       "3                 1231        WHOLESALE             DE-2               54   \n",
       "4                 1231        WHOLESALE             DE-2               54   \n",
       "\n",
       "   DimItemId              ItemNo2    StyleID                Style       Color  \\\n",
       "0     347900  F15404308_CLR000021  F15404308      Hoys pants 6528       Black   \n",
       "1     347900  F15404308_CLR000021  F15404308      Hoys pants 6528       Black   \n",
       "2        778  M00012003_CLR000508  M00012003    Kronos o-n ss 273  White mel    \n",
       "3     348547  F19123672_CLR000021  F19123672  Majan ss shirt 9942       Black   \n",
       "4     348547  F19123672_CLR000021  F19123672  Majan ss shirt 9942       Black   \n",
       "\n",
       "  Size           EAN      Gender  Category SUB Category SUB Category2 Quality  \\\n",
       "0   XL  5.711450e+12  WOMENSWEAR  Trousers     Trousers       Default   Woven   \n",
       "1   XL  5.711450e+12  WOMENSWEAR  Trousers     Trousers       Default   Woven   \n",
       "2    S  5.711452e+12    MENSWEAR      Tops    Crew neck  Short sleeve  Jersey   \n",
       "3    L  5.711452e+12  WOMENSWEAR    Shirts       Shirts  Short sleeve   Woven   \n",
       "4    L  5.711452e+12  WOMENSWEAR    Shirts       Shirts  Short sleeve   Woven   \n",
       "\n",
       "  Origin Country  WHSSalesPriceDKK  RRSalesPriceDKK  DimOrderSalespersonId  \\\n",
       "0          China             315.0            800.0                    113   \n",
       "1          China             315.0            800.0                    113   \n",
       "2         Turkey              90.0            250.0                    282   \n",
       "3          China             195.0            500.0                     96   \n",
       "4          China             195.0            500.0                     85   \n",
       "\n",
       "   DimOrderCountryManagerId OrderHeaderNumber  OrderLineNumber  Inbound Duty  \\\n",
       "0                         2            103099            20001          0.12   \n",
       "1                         2            103106            20002          0.12   \n",
       "2                         3            103035            20002          0.00   \n",
       "3                         6         IN0001122            60002          0.12   \n",
       "4                         6            103113            40003          0.12   \n",
       "\n",
       "   Quantity  Amount  Discount    Cost  \n",
       "0       1.0  294.63     17.71  152.91  \n",
       "1       2.0  589.26     35.34  305.80  \n",
       "2       1.0   78.12      0.00   42.41  \n",
       "3       2.0  379.45      0.00  147.84  \n",
       "4       2.0  379.45      0.00  162.08  "
      ]
     },
     "metadata": {},
     "output_type": "display_data"
    }
   ],
   "source": [
    "df.head()"
   ]
  },
  {
   "cell_type": "code",
   "execution_count": null,
   "metadata": {},
   "outputs": [
    {
     "name": "stdout",
     "output_type": "stream",
     "text": [
      "<class 'pandas.core.frame.DataFrame'>\n",
      "RangeIndex: 826690 entries, 0 to 826689\n",
      "Data columns (total 37 columns):\n",
      " #   Column                    Non-Null Count   Dtype  \n",
      "---  ------                    --------------   -----  \n",
      " 0   Unnamed: 0                826690 non-null  int64  \n",
      " 1   Id                        826690 non-null  int64  \n",
      " 2   DimEntityId               826690 non-null  int64  \n",
      " 3   DimOrderTypeId            826690 non-null  int64  \n",
      " 4   OrderTypeCode             826690 non-null  object \n",
      " 5   DimGeographyId            826690 non-null  int64  \n",
      " 6   Country                   826690 non-null  object \n",
      " 7   DimPostingDateId          826690 non-null  int64  \n",
      " 8   DimGenderId               826690 non-null  int64  \n",
      " 9   DimBillToCustomerId       826690 non-null  int64  \n",
      " 10  CustomerMainType          826690 non-null  object \n",
      " 11  CustomerSubGroup          826690 non-null  object \n",
      " 12  DimCollectionId           826690 non-null  int64  \n",
      " 13  DimItemId                 826690 non-null  int64  \n",
      " 14  ItemNo2                   826690 non-null  object \n",
      " 15  StyleID                   826690 non-null  object \n",
      " 16  Style                     826690 non-null  object \n",
      " 17  Color                     826690 non-null  object \n",
      " 18  Size                      826690 non-null  object \n",
      " 19  EAN                       825958 non-null  float64\n",
      " 20  Gender                    826690 non-null  object \n",
      " 21  Category                  826690 non-null  object \n",
      " 22  SUB Category              826613 non-null  object \n",
      " 23  SUB Category2             826613 non-null  object \n",
      " 24  Quality                   822635 non-null  object \n",
      " 25  Origin Country            826690 non-null  object \n",
      " 26  WHSSalesPriceDKK          826690 non-null  float64\n",
      " 27  RRSalesPriceDKK           826690 non-null  float64\n",
      " 28  DimOrderSalespersonId     826690 non-null  int64  \n",
      " 29  DimOrderCountryManagerId  826690 non-null  int64  \n",
      " 30  OrderHeaderNumber         826690 non-null  object \n",
      " 31  OrderLineNumber           826690 non-null  int64  \n",
      " 32  Inbound Duty              814755 non-null  float64\n",
      " 33  Quantity                  826690 non-null  float64\n",
      " 34  Amount                    826690 non-null  float64\n",
      " 35  Discount                  826690 non-null  float64\n",
      " 36  Cost                      826690 non-null  float64\n",
      "dtypes: float64(8), int64(13), object(16)\n",
      "memory usage: 233.4+ MB\n"
     ]
    }
   ],
   "source": [
    "df.info()"
   ]
  },
  {
   "cell_type": "code",
   "execution_count": null,
   "metadata": {},
   "outputs": [],
   "source": [
    "# Handling missing values: we notice missing values for EAN, sub category, sub category 2, quality, Inbound duties\n",
    "# EAN -  Using DimItemId we have an identifiant of product at a Style x Color x Size level. Using ItemNo2, we have Style x Color level. Using StyleID, we have an identifiant at a style level.\n",
    "# We conclude we can remove EAN as it isn't bringing more information.\n",
    "df.drop('EAN', axis=1, inplace=True)"
   ]
  },
  {
   "cell_type": "code",
   "execution_count": null,
   "metadata": {},
   "outputs": [
    {
     "name": "stderr",
     "output_type": "stream",
     "text": [
      "C:\\Users\\MaximeRoux\\AppData\\Local\\Temp\\ipykernel_22412\\3534567760.py:5: FutureWarning: A value is trying to be set on a copy of a DataFrame or Series through chained assignment using an inplace method.\n",
      "The behavior will change in pandas 3.0. This inplace method will never work because the intermediate object on which we are setting values always behaves as a copy.\n",
      "\n",
      "For example, when doing 'df[col].method(value, inplace=True)', try using 'df.method({col: value}, inplace=True)' or df[col] = df[col].method(value) instead, to perform the operation inplace on the original object.\n",
      "\n",
      "\n",
      "  df['SUB Category'].fillna('Sunglasses', inplace=True)\n",
      "C:\\Users\\MaximeRoux\\AppData\\Local\\Temp\\ipykernel_22412\\3534567760.py:6: FutureWarning: A value is trying to be set on a copy of a DataFrame or Series through chained assignment using an inplace method.\n",
      "The behavior will change in pandas 3.0. This inplace method will never work because the intermediate object on which we are setting values always behaves as a copy.\n",
      "\n",
      "For example, when doing 'df[col].method(value, inplace=True)', try using 'df.method({col: value}, inplace=True)' or df[col] = df[col].method(value) instead, to perform the operation inplace on the original object.\n",
      "\n",
      "\n",
      "  df['SUB Category2'].fillna('Default', inplace=True)\n"
     ]
    }
   ],
   "source": [
    "# Sub category and sub category 2\n",
    "unique_cat = df[['Category','SUB Category','SUB Category2']].drop_duplicates()\n",
    "unique_cat\n",
    "# NaNs in the product categories are coming solely from Sunglasses. In order to comply with the rest of the categories, we will replace NaN in SUB Category by 'Sunglasses' and SUB Category2 by 'Default'\n",
    "df['SUB Category'].fillna('Sunglasses', inplace=True)\n",
    "df['SUB Category2'].fillna('Default', inplace=True)"
   ]
  },
  {
   "cell_type": "code",
   "execution_count": null,
   "metadata": {},
   "outputs": [
    {
     "name": "stdout",
     "output_type": "stream",
     "text": [
      "There are 45 styles without quality.\n"
     ]
    },
    {
     "data": {
      "text/plain": [
       "array(['Camino t-shirt ss 6024', 'Merkur t-n ls 200',\n",
       "       'Knud t-shirt st 10379', 'Siffy ls body 10908',\n",
       "       'Tandy panties 6356', 'Eddie jeans 13026', 'Hugo crew neck 11414',\n",
       "       'Marilyn bra 6356', 'Siff tee 6202', 'Liss ss gd 3174',\n",
       "       'Mains tee 5687', 'Kronos o-n ss 273', 'Alice jeans 11364',\n",
       "       'Alice jeans 10232', 'Liam BX shirt 11246', 'Enno hoodie ls 7057',\n",
       "       'Nelli ls 9400', 'Holger socks 11517', 'Rory jeans 14031',\n",
       "       'Nobel ls stripe 3173', 'Hugo hoodie 11414',\n",
       "       'Kleo turtleneck 11265', 'Ester t-n 265', 'Alaya jeans 11363',\n",
       "       'Alice jeans 11363', 'Sarai wrap ls 12708', 'Siff tee 13114',\n",
       "       'Kleo cardigan 11265', 'Edger A blazer 6568',\n",
       "       'Kleo crew neck 11265', 'Rory jeans 13047', 'Cosmo jeans 11358',\n",
       "       'Patrick o-n ss 10379', 'Kronos o-n stripe 273',\n",
       "       'Alaya jeans 10232', 'Trunks 3702', 'Enno zip hoodie 7057',\n",
       "       'Cosmo jeans 13047', 'Rory jeans 11358', 'Solly tee solid 205',\n",
       "       'Rory jeans 11005', 'Tom o-n ss 10076', 'Adelina jeans 14145',\n",
       "       'Amie ls 2085', 'Sunglasses Display'], dtype=object)"
      ]
     },
     "metadata": {},
     "output_type": "display_data"
    }
   ],
   "source": [
    "# Quality\n",
    "print(f'There are {df[df['Quality'].isna()]['Style'].nunique()} styles without quality.')\n",
    "# We think we can replace the values by investigating online what is the fabric.\n",
    "df[df['Quality'].isna()]['Style'].unique()"
   ]
  },
  {
   "cell_type": "code",
   "execution_count": null,
   "metadata": {},
   "outputs": [
    {
     "data": {
      "text/plain": [
       "array(['Woven', 'Jersey', nan, 'Denim', 'Knit', 'Leather', 'Shoes',\n",
       "       'Other'], dtype=object)"
      ]
     },
     "metadata": {},
     "output_type": "display_data"
    }
   ],
   "source": [
    "df['Quality'].unique()"
   ]
  },
  {
   "cell_type": "code",
   "execution_count": null,
   "metadata": {},
   "outputs": [],
   "source": [
    "NaN_quality_dict = {'Camino t-shirt ss 6024' : 'Jersey',\n",
    "                     'Merkur t-n ls 200' : 'Jersey',\n",
    "                     'Knud t-shirt st 10379' : 'Other', \n",
    "                     'Siffy ls body 10908' : 'Other',\n",
    "                     'Tandy panties 6356' : 'Jersey',\n",
    "                     'Eddie jeans 13026' : 'Denim',\n",
    "                     'Hugo crew neck 11414' : 'Jersey',\n",
    "                     'Marilyn bra 6356' : 'Jersey',\n",
    "                     'Siff tee 6202' : 'Other',\n",
    "                     'Liss ss gd 3174' : 'Jersey',\n",
    "                     'Mains tee 5687' : 'Woven',\n",
    "                     'Kronos o-n ss 273' : 'Jersey',\n",
    "                     'Alice jeans 11364' : 'Denim',\n",
    "                     'Alice jeans 10232' : 'Denim',\n",
    "                     'Liam BX shirt 11246' : 'Woven', \n",
    "                     'Enno hoodie ls 7057' : 'Other',\n",
    "                     'Nelli ls 9400' : 'Jersey',\n",
    "                     'Holger socks 11517' : 'Knit',\n",
    "                     'Rory jeans 14031' : 'Denim',\n",
    "                     'Nobel ls stripe 3173' : 'Jersey', \n",
    "                     'Hugo hoodie 11414' : 'Other',\n",
    "                     'Kleo turtleneck 11265' : 'Knit', \n",
    "                     'Ester t-n 265' : 'Jersey', \n",
    "                     'Alaya jeans 11363' : 'Denim',\n",
    "                     'Alice jeans 11363' : 'Denim',\n",
    "                     'Sarai wrap ls 12708' : 'Other',\n",
    "                     'Siff tee 13114' : 'Jersey',\n",
    "                     'Kleo cardigan 11265' : 'Knit',\n",
    "                     'Edger A blazer 6568' : 'Other',\n",
    "                     'Kleo crew neck 11265' : 'Other',\n",
    "                     'Rory jeans 13047' : 'Denim',\n",
    "                     'Cosmo jeans 11358' : 'Denim',\n",
    "                     'Patrick o-n ss 10379' : 'Jersey',\n",
    "                     'Kronos o-n stripe 273' : 'Jersey',\n",
    "                     'Alaya jeans 10232' : 'Denim',\n",
    "                     'Trunks 3702' : 'Other',\n",
    "                     'Enno zip hoodie 7057' : 'Other',\n",
    "                     'Cosmo jeans 13047' : 'Denim',\n",
    "                     'Rory jeans 11358' : 'Denim',\n",
    "                     'Solly tee solid 205' : 'Jersey',\n",
    "                     'Rory jeans 11005' : 'Denim',\n",
    "                     'Tom o-n ss 10076' : 'Other',\n",
    "                     'Adelina jeans 14145' : 'Other',\n",
    "                     'Amie ls 2085' : 'Jersey',\n",
    "                     'Sunglasses Display' : 'Other'}"
   ]
  },
  {
   "cell_type": "code",
   "execution_count": null,
   "metadata": {},
   "outputs": [],
   "source": [
    "for i in NaN_quality_dict:\n",
    "    df.loc[df['Style']==i,['Quality']]=NaN_quality_dict[i]"
   ]
  },
  {
   "cell_type": "code",
   "execution_count": null,
   "metadata": {},
   "outputs": [
    {
     "data": {
      "text/plain": [
       "array(['Woven', 'Jersey', 'Denim', 'Other', 'Knit', 'Leather', 'Shoes'],\n",
       "      dtype=object)"
      ]
     },
     "metadata": {},
     "output_type": "display_data"
    }
   ],
   "source": [
    "df['Quality'].unique()"
   ]
  },
  {
   "cell_type": "code",
   "execution_count": null,
   "metadata": {},
   "outputs": [],
   "source": [
    "# Inbound duties - We will not use this feature\n",
    "df.drop('Inbound Duty', axis=1, inplace=True)"
   ]
  },
  {
   "cell_type": "code",
   "execution_count": null,
   "metadata": {},
   "outputs": [
    {
     "name": "stdout",
     "output_type": "stream",
     "text": [
      "<class 'pandas.core.frame.DataFrame'>\n",
      "RangeIndex: 826690 entries, 0 to 826689\n",
      "Data columns (total 35 columns):\n",
      " #   Column                    Non-Null Count   Dtype  \n",
      "---  ------                    --------------   -----  \n",
      " 0   Unnamed: 0                826690 non-null  int64  \n",
      " 1   Id                        826690 non-null  int64  \n",
      " 2   DimEntityId               826690 non-null  int64  \n",
      " 3   DimOrderTypeId            826690 non-null  int64  \n",
      " 4   OrderTypeCode             826690 non-null  object \n",
      " 5   DimGeographyId            826690 non-null  int64  \n",
      " 6   Country                   826690 non-null  object \n",
      " 7   DimPostingDateId          826690 non-null  int64  \n",
      " 8   DimGenderId               826690 non-null  int64  \n",
      " 9   DimBillToCustomerId       826690 non-null  int64  \n",
      " 10  CustomerMainType          826690 non-null  object \n",
      " 11  CustomerSubGroup          826690 non-null  object \n",
      " 12  DimCollectionId           826690 non-null  int64  \n",
      " 13  DimItemId                 826690 non-null  int64  \n",
      " 14  ItemNo2                   826690 non-null  object \n",
      " 15  StyleID                   826690 non-null  object \n",
      " 16  Style                     826690 non-null  object \n",
      " 17  Color                     826690 non-null  object \n",
      " 18  Size                      826690 non-null  object \n",
      " 19  Gender                    826690 non-null  object \n",
      " 20  Category                  826690 non-null  object \n",
      " 21  SUB Category              826690 non-null  object \n",
      " 22  SUB Category2             826690 non-null  object \n",
      " 23  Quality                   826690 non-null  object \n",
      " 24  Origin Country            826690 non-null  object \n",
      " 25  WHSSalesPriceDKK          826690 non-null  float64\n",
      " 26  RRSalesPriceDKK           826690 non-null  float64\n",
      " 27  DimOrderSalespersonId     826690 non-null  int64  \n",
      " 28  DimOrderCountryManagerId  826690 non-null  int64  \n",
      " 29  OrderHeaderNumber         826690 non-null  object \n",
      " 30  OrderLineNumber           826690 non-null  int64  \n",
      " 31  Quantity                  826690 non-null  float64\n",
      " 32  Amount                    826690 non-null  float64\n",
      " 33  Discount                  826690 non-null  float64\n",
      " 34  Cost                      826690 non-null  float64\n",
      "dtypes: float64(6), int64(13), object(16)\n",
      "memory usage: 220.8+ MB\n"
     ]
    }
   ],
   "source": [
    "df.info()\n",
    "# No more NaN values"
   ]
  },
  {
   "cell_type": "code",
   "execution_count": null,
   "metadata": {},
   "outputs": [],
   "source": [
    "# Remove the non commercial subgroups: internal channels\n",
    "subgrouptoremove = ['X_PR', 'X_SHOWROOM', 'X_OTHER', 'X_IC','Ungrouped']\n",
    "dfsales = df[~df['CustomerSubGroup'].isin(subgrouptoremove)]"
   ]
  },
  {
   "cell_type": "markdown",
   "metadata": {},
   "source": [
    "As explained in the document, for business reason, we have decided to focus on the product hierarchy rather than the geographical hierarchy. Hence, we decide to remove all the information related to the customer hierarchy."
   ]
  },
  {
   "cell_type": "code",
   "execution_count": null,
   "metadata": {},
   "outputs": [],
   "source": [
    "dfsales = dfsales.drop(['DimOrderTypeId', 'OrderTypeCode', 'DimGeographyId', 'Country', 'DimBillToCustomerId', 'CustomerMainType', 'CustomerSubGroup',\n",
    "                      'DimOrderSalespersonId', 'DimOrderCountryManagerId'], axis=1)"
   ]
  },
  {
   "cell_type": "code",
   "execution_count": null,
   "metadata": {},
   "outputs": [],
   "source": [
    "# The following columns are useless: Unnamed: 0 - SQL extract index, Id - Id coming from the initial table, DimEntityId - Unique value corresponding to the brand Samsøe Samsøe, DimCollectionId - Unique value corresponding\n",
    "# to the Basic collection\n",
    "df_sales.drop(['Unnamed: 0', 'Id', 'DimEntityId', 'DimCollectionId'], axis=1, inplace=True)"
   ]
  },
  {
   "cell_type": "code",
   "execution_count": null,
   "metadata": {},
   "outputs": [],
   "source": [
    "# Create timeseries and change idex\n",
    "df_sales['DimPostingDateId'] = pd.to_datetime(df_sales['DimPostingDateId'],format='%Y%m%d')\n",
    "df_sales.set_index(\"DimPostingDateId\", inplace=True)"
   ]
  },
  {
   "cell_type": "code",
   "execution_count": null,
   "metadata": {},
   "outputs": [
    {
     "name": "stdout",
     "output_type": "stream",
     "text": [
      "<class 'pandas.core.frame.DataFrame'>\n",
      "DatetimeIndex: 818375 entries, 2022-03-12 to 2024-11-18\n",
      "Data columns (total 21 columns):\n",
      " #   Column             Non-Null Count   Dtype  \n",
      "---  ------             --------------   -----  \n",
      " 0   DimGenderId        818375 non-null  int64  \n",
      " 1   DimItemId          818375 non-null  int64  \n",
      " 2   ItemNo2            818375 non-null  object \n",
      " 3   StyleID            818375 non-null  object \n",
      " 4   Style              818375 non-null  object \n",
      " 5   Color              818375 non-null  object \n",
      " 6   Size               818375 non-null  object \n",
      " 7   Gender             818375 non-null  object \n",
      " 8   Category           818375 non-null  object \n",
      " 9   SUB Category       818375 non-null  object \n",
      " 10  SUB Category2      818375 non-null  object \n",
      " 11  Quality            818375 non-null  object \n",
      " 12  Origin Country     818375 non-null  object \n",
      " 13  WHSSalesPriceDKK   818375 non-null  float64\n",
      " 14  RRSalesPriceDKK    818375 non-null  float64\n",
      " 15  OrderHeaderNumber  818375 non-null  object \n",
      " 16  OrderLineNumber    818375 non-null  int64  \n",
      " 17  Quantity           818375 non-null  float64\n",
      " 18  Amount             818375 non-null  float64\n",
      " 19  Discount           818375 non-null  float64\n",
      " 20  Cost               818375 non-null  float64\n",
      "dtypes: float64(6), int64(3), object(12)\n",
      "memory usage: 137.4+ MB\n"
     ]
    }
   ],
   "source": [
    "df_sales.info()"
   ]
  },
  {
   "cell_type": "code",
   "execution_count": null,
   "metadata": {},
   "outputs": [],
   "source": [
    "df_sales.to_csv(\"data/cleaned_data.csv\")"
   ]
  },
  {
   "cell_type": "markdown",
   "metadata": {},
   "source": [
    "## 2. Train-Test split"
   ]
  },
  {
   "cell_type": "code",
   "execution_count": null,
   "metadata": {},
   "outputs": [
    {
     "name": "stdout",
     "output_type": "stream",
     "text": [
      "The dataset is divided as follow: 88.0% of the data used for training and 12.0% for testing\n"
     ]
    }
   ],
   "source": [
    "df_train = df[df['DimPostingDateId'] < '2024-07-29']\n",
    "df_test = df[df['DimPostingDateId'] >= '2024-07-29']\n",
    "\n",
    "train_perc = np.round(100 * df_train.shape[0] / df.shape[0])\n",
    "test_perc = np.round(100 * df_test.shape[0] / df.shape[0])\n",
    "print(f\"The dataset is divided as follow: {train_perc}% of the data used for training and {test_perc}% for testing\")"
   ]
  },
  {
   "cell_type": "code",
   "execution_count": null,
   "metadata": {},
   "outputs": [],
   "source": [
    "df_train.to_csv(\"data/train.csv\")\n",
    "df_test.toc_csv (\"data/train.csv\")"
   ]
  }
 ],
 "metadata": {
  "language_info": {
   "name": "python"
  }
 },
 "nbformat": 4,
 "nbformat_minor": 2
}
