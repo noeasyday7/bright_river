{
 "cells": [
  {
   "cell_type": "markdown",
   "metadata": {},
   "source": [
    "# 0. Imports"
   ]
  },
  {
   "cell_type": "code",
   "execution_count": 46,
   "metadata": {},
   "outputs": [],
   "source": [
    "import pandas as pd\n",
    "import numpy as np\n",
    "import matplotlib.pyplot as plt\n",
    "import seaborn as sns\n",
    "import os\n",
    "import matplotlib.gridspec as gridspec\n",
    "\n",
    "from ydata_profiling import ProfileReport\n",
    "from sklearn.preprocessing import StandardScaler\n",
    "from sklearn.decomposition import PCA\n",
    "from kneed import KneeLocator\n",
    "from yellowbrick.cluster import KElbowVisualizer, SilhouetteVisualizer\n",
    "from sklearn.cluster import KMeans\n",
    "from sklearn.metrics import silhouette_score, calinski_harabasz_score, davies_bouldin_score\n",
    "from collections import Counter\n",
    "from tabulate import tabulate\n",
    "from tsfeatures import tsfeatures"
   ]
  },
  {
   "cell_type": "code",
   "execution_count": 47,
   "metadata": {},
   "outputs": [],
   "source": [
    "from statsmodels.tsa.arima.model import ARIMA\n",
    "from statsmodels.tsa.statespace.sarimax import SARIMAX\n",
    "from statsmodels.tsa.holtwinters import ExponentialSmoothing\n",
    "from statsmodels.tsa.holtwinters import Holt\n",
    "from sklearn.linear_model import LinearRegression\n",
    "from xgboost import XGBRegressor\n",
    "from sklearn.ensemble import RandomForestRegressor\n",
    "from sklearn.metrics import mean_absolute_error\n",
    "from tensorflow.keras.models import Sequential\n",
    "from tensorflow.keras.layers import LSTM, Dense"
   ]
  },
  {
   "cell_type": "code",
   "execution_count": 48,
   "metadata": {},
   "outputs": [],
   "source": [
    "# Configure seaborn plot style: set background color and use dark grid\n",
    "sns.set(rc={'axes.facecolor':'#E6E6E6'}, style='darkgrid')"
   ]
  },
  {
   "cell_type": "code",
   "execution_count": 49,
   "metadata": {},
   "outputs": [],
   "source": [
    "df_train = pd.read_csv(\"data/train_clustered.csv\", index_col=0)\n",
    "df_test = pd.read_csv(\"data/test_clustered.csv\", index_col=0)\n",
    "cluster = pd.read_csv(\"data/clustered_products.csv\", index_col=0)\n",
    "clusters_model = pd.read_csv(\"data/clusters_model.csv\", index_col=0)"
   ]
  },
  {
   "cell_type": "code",
   "execution_count": 50,
   "metadata": {},
   "outputs": [],
   "source": [
    "df_train.ds = pd.to_datetime(df_train.ds, format=\"%Y-%m-%d\")\n",
    "df_test.ds = pd.to_datetime(df_test.ds, format=\"%Y-%m-%d\")"
   ]
  },
  {
   "cell_type": "code",
   "execution_count": 51,
   "metadata": {},
   "outputs": [],
   "source": [
    "nb_clusters = df_train.cluster.nunique()"
   ]
  },
  {
   "cell_type": "code",
   "execution_count": 52,
   "metadata": {},
   "outputs": [
    {
     "data": {
      "text/html": [
       "<div>\n",
       "<style scoped>\n",
       "    .dataframe tbody tr th:only-of-type {\n",
       "        vertical-align: middle;\n",
       "    }\n",
       "\n",
       "    .dataframe tbody tr th {\n",
       "        vertical-align: top;\n",
       "    }\n",
       "\n",
       "    .dataframe thead th {\n",
       "        text-align: right;\n",
       "    }\n",
       "</style>\n",
       "<table border=\"1\" class=\"dataframe\">\n",
       "  <thead>\n",
       "    <tr style=\"text-align: right;\">\n",
       "      <th></th>\n",
       "      <th>cluster</th>\n",
       "      <th>model</th>\n",
       "    </tr>\n",
       "  </thead>\n",
       "  <tbody>\n",
       "    <tr>\n",
       "      <th>0</th>\n",
       "      <td>1</td>\n",
       "      <td>Exponential Smoothing</td>\n",
       "    </tr>\n",
       "    <tr>\n",
       "      <th>1</th>\n",
       "      <td>0</td>\n",
       "      <td>Holt's Linear Trend</td>\n",
       "    </tr>\n",
       "    <tr>\n",
       "      <th>2</th>\n",
       "      <td>2</td>\n",
       "      <td>Holt's Linear Trend</td>\n",
       "    </tr>\n",
       "  </tbody>\n",
       "</table>\n",
       "</div>"
      ],
      "text/plain": [
       "   cluster                  model\n",
       "0        1  Exponential Smoothing\n",
       "1        0    Holt's Linear Trend\n",
       "2        2    Holt's Linear Trend"
      ]
     },
     "execution_count": 52,
     "metadata": {},
     "output_type": "execute_result"
    }
   ],
   "source": [
    "clusters_model"
   ]
  },
  {
   "cell_type": "markdown",
   "metadata": {},
   "source": [
    "# V. Forecasting"
   ]
  },
  {
   "cell_type": "code",
   "execution_count": 53,
   "metadata": {},
   "outputs": [],
   "source": [
    "forecast_results = {}\n",
    "\n",
    "for c in range(nb_clusters):\n",
    "    items = df_train[df_train.cluster == c][\"unique_id\"].unique()\n",
    "    best_model = clusters_model.loc[clusters_model.cluster == c, 'model'].squeeze()\n",
    "    \n",
    "    for item in items:\n",
    "        train_serie = df_train[df_train.unique_id == item].y\n",
    "        test_serie = df_test[df_test.unique_id == item].y\n",
    "        \n",
    "        # if best_model == 'ARIMA':\n",
    "        #     model = ARIMA(train_serie, order=(1, 1, 1)).fit()\n",
    "        #     forecast = model.forecast(steps=len(test_serie))\n",
    "        if best_model == 'SARIMA':\n",
    "            model = SARIMAX(train_serie, order=(1, 1, 1), seasonal_order=(1, 1, 1, 12)).fit(disp=False)\n",
    "            forecast = model.forecast(steps=len(test_serie))\n",
    "        elif best_model == 'Exponential Smoothing':\n",
    "            model = ExponentialSmoothing(train_serie, seasonal='add', seasonal_periods=12).fit()\n",
    "            forecast = model.forecast(steps=len(test_serie))\n",
    "        elif best_model == \"Holt's Linear Trend\":\n",
    "            model = Holt(train_serie).fit()\n",
    "            forecast = model.forecast(steps=len(test_serie))\n",
    "        # elif best_model == 'Linear Regression':\n",
    "        #     lr_model = LinearRegression()\n",
    "        #     X_train = np.arange(len(train_serie)).reshape(-1, 1)\n",
    "        #     lr_model.fit(X_train, train_serie)\n",
    "        #     X_test = np.arange(len(train_serie), len(train_serie) + len(test_serie)).reshape(-1, 1)\n",
    "        #     forecast = lr_model.predict(X_test)\n",
    "        # elif best_model == 'XGBoost':\n",
    "        #     xgb_model = XGBRegressor(objective='reg:squarederror', random_state=42)\n",
    "        #     X_train = np.arange(len(train_serie)).reshape(-1, 1)\n",
    "        #     xgb_model.fit(X_train, train_serie)\n",
    "        #     X_test = np.arange(len(train_serie), len(train_serie) + len(test_serie)).reshape(-1, 1)\n",
    "        #     forecast = xgb_model.predict(X_test)\n",
    "        # elif best_model == 'Random Forest':\n",
    "        #     rf_model = RandomForestRegressor(random_state=42)\n",
    "        #     X_train = np.arange(len(train_serie)).reshape(-1, 1)\n",
    "        #     rf_model.fit(X_train, train_serie)\n",
    "        #     X_test = np.arange(len(train_serie), len(train_serie) + len(test_serie)).reshape(-1, 1)\n",
    "        #     forecast = rf_model.predict(X_test)\n",
    "        # elif best_model == 'LSTM':\n",
    "        #     model = Sequential([\n",
    "        #         LSTM(50, activation='relu', input_shape=(1, 1)),\n",
    "        #         Dense(1)\n",
    "        #     ])\n",
    "        #     model.compile(optimizer='adam', loss='mae')\n",
    "        #     X_train = train_serie.reshape(-1, 1, 1)\n",
    "        #     model.fit(X_train, train_serie, epochs=10, batch_size=1, verbose=0)\n",
    "        #     X_test = np.arange(len(train_serie), len(train_serie) + len(test_serie)).reshape(-1, 1, 1)\n",
    "        #     forecast = lstm_model.predict(X_test).flatten()\n",
    "        \n",
    "        forecast_results[item] = forecast\n",
    "            "
   ]
  }
 ],
 "metadata": {
  "kernelspec": {
   "display_name": "base",
   "language": "python",
   "name": "python3"
  },
  "language_info": {
   "codemirror_mode": {
    "name": "ipython",
    "version": 3
   },
   "file_extension": ".py",
   "mimetype": "text/x-python",
   "name": "python",
   "nbconvert_exporter": "python",
   "pygments_lexer": "ipython3",
   "version": "3.12.4"
  }
 },
 "nbformat": 4,
 "nbformat_minor": 2
}
